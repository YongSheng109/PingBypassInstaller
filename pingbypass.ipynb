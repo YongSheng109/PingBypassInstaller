{
  "nbformat": 4,
  "nbformat_minor": 0,
  "metadata": {
    "colab": {
      "provenance": [],
      "authorship_tag": "ABX9TyNLcTdZmlqT0WEFTI5jmMnp",
      "include_colab_link": true
    },
    "kernelspec": {
      "name": "python3",
      "display_name": "Python 3"
    },
    "language_info": {
      "name": "python"
    }
  },
  "cells": [
    {
      "cell_type": "markdown",
      "metadata": {
        "id": "view-in-github",
        "colab_type": "text"
      },
      "source": [
        "<a href=\"https://colab.research.google.com/github/YongSheng109/PingBypassInstaller/blob/main/pingbypass.ipynb\" target=\"_parent\"><img src=\"https://colab.research.google.com/assets/colab-badge.svg\" alt=\"Open In Colab\"/></a>"
      ]
    },
    {
      "cell_type": "markdown",
      "source": [
        "**This will make a pingbypass for you automatically | You just have to enter some personal info**"
      ],
      "metadata": {
        "id": "lBiCNVxNbDim"
      }
    },
    {
      "cell_type": "code",
      "source": [
        "!cd ~ && ls && rm * -r\n",
        "!sudo su root -c 'cd ~ && curl https://raw.githubusercontent.com/YongSheng109/PingBypassInstaller/main/colabsh.sh -o colab.sh'\n",
        "!cd ~ && chmod +x colab.sh\n",
        "!cd ~ && sudo sh colab.sh"
      ],
      "metadata": {
        "colab": {
          "base_uri": "https://localhost:8080/"
        },
        "id": "4t6PvldobCG_",
        "outputId": "42228102-6437-4a44-9759-a281ce20bcf6"
      },
      "execution_count": 55,
      "outputs": [
        {
          "output_type": "stream",
          "name": "stdout",
          "text": [
            "colab.sh\t\t       OpenJDK8U-jdk_x64_linux_hotspot_8u345b01.tar.gz\n",
            "HeadlessMC\t\t       pb\n",
            "headlessmc-launcher-1.5.2.jar  playit\n",
            "jdk8u345-b01\n",
            "  % Total    % Received % Xferd  Average Speed   Time    Time     Time  Current\n",
            "                                 Dload  Upload   Total   Spent    Left  Speed\n",
            "100  5732  100  5732    0     0  25251      0 --:--:-- --:--:-- --:--:-- 25251\n",
            "Reading package lists... Done\n",
            "Building dependency tree       \n",
            "Reading state information... Done\n",
            "python3-pip is already the newest version (20.0.2-5ubuntu1.7).\n",
            "The following package was automatically installed and is no longer required:\n",
            "  libnvidia-common-510\n",
            "Use 'sudo apt autoremove' to remove it.\n",
            "0 upgraded, 0 newly installed, 0 to remove and 21 not upgraded.\n",
            "Reading package lists... Done\n",
            "Building dependency tree       \n",
            "Reading state information... Done\n",
            "iproute2 is already the newest version (5.5.0-1ubuntu1).\n",
            "The following package was automatically installed and is no longer required:\n",
            "  libnvidia-common-510\n",
            "Use 'sudo apt autoremove' to remove it.\n",
            "0 upgraded, 0 newly installed, 0 to remove and 21 not upgraded.\n",
            "Reading package lists... Done\n",
            "Building dependency tree       \n",
            "Reading state information... Done\n",
            "screen is already the newest version (4.8.0-1ubuntu0.1).\n",
            "The following package was automatically installed and is no longer required:\n",
            "  libnvidia-common-510\n",
            "Use 'sudo apt autoremove' to remove it.\n",
            "0 upgraded, 0 newly installed, 0 to remove and 21 not upgraded.\n",
            "\u001b[H\u001b[2J\u001b[H\u001b[2Jbrought you to the HAV0X PingBypass Rewrite by zYongSheng_\n",
            "                                                                           \n",
            "██╗░░░██╗░█████╗░███╗░░██╗░██████╗░██████╗░██╗░░░██╗██████╗░░█████╗░░██████╗░██████╗\n",
            "╚██╗░██╔╝██╔══██╗████╗░██║██╔════╝░██╔══██╗╚██╗░██╔╝██╔══██╗██╔══██╗██╔════╝██╔════╝\n",
            "░╚████╔╝░██║░░██║██╔██╗██║██║░░██╗░██████╦╝░╚████╔╝░██████╔╝███████║╚█████╗░╚█████╗░\n",
            "░░╚██╔╝░░██║░░██║██║╚████║██║░░╚██╗██╔══██╗░░╚██╔╝░░██╔═══╝░██╔══██║░╚═══██╗░╚═══██╗\n",
            "░░░██║░░░╚█████╔╝██║░╚███║╚██████╔╝██████╦╝░░░██║░░░██║░░░░░██║░░██║██████╔╝██████╔╝\n",
            "░░░╚═╝░░░░╚════╝░╚═╝░░╚══╝░╚═════╝░╚═════╝░░░░╚═╝░░░╚═╝░░░░░╚═╝░░╚═╝╚═════╝░╚═════╝░             \n",
            "\n",
            "\n",
            "If you got an error while running this script, please rerun the script.\n",
            "The PingBypass Password You Want? >> 1\n",
            "Your Minecraft Account Mail? >> 1\n",
            "Your Minecraft Account Password? >> 1\n",
            "Downloading Java...\n",
            "Java Downloaded!\n",
            "\u001b[H\u001b[2JLogging in...\n",
            "Failed to log you in: Invalid credentials or tokens\n",
            "me.earth.headlessmc.launcher.auth.AuthException: Invalid credentials or tokens\n",
            "\tat me.earth.headlessmc.launcher.auth.AccountManager.login(AccountManager.java:62)\n",
            "\tat me.earth.headlessmc.launcher.command.login.LoginCommand.lambda$login$0(LoginCommand.java:56)\n",
            "\tat me.earth.headlessmc.launcher.command.login.LoginCommand.execute(LoginCommand.java:41)\n",
            "\tat me.earth.headlessmc.command.CommandContextImpl.executeCommand(CommandContextImpl.java:43)\n",
            "\tat me.earth.headlessmc.command.CommandContextImpl.execute(CommandContextImpl.java:30)\n",
            "\tat me.earth.headlessmc.launcher.QuickExitCliHandler.checkQuickExit(QuickExitCliHandler.java:47)\n",
            "\tat me.earth.headlessmc.launcher.Main.runHeadlessMc(Main.java:86)\n",
            "\tat me.earth.headlessmc.launcher.Main.main(Main.java:35)\n",
            "\u001b[H\u001b[2JDownloading Playit...\n",
            "Playit Downloaded!\n",
            "\u001b[H\u001b[2JCloning into 'keep-presence'...\n",
            "remote: Enumerating objects: 159, done.\u001b[K\n",
            "remote: Counting objects: 100% (42/42), done.\u001b[K\n",
            "remote: Compressing objects: 100% (36/36), done.\u001b[K\n",
            "remote: Total 159 (delta 18), reused 14 (delta 6), pack-reused 117\u001b[K\n",
            "Receiving objects: 100% (159/159), 2.46 MiB | 11.99 MiB/s, done.\n",
            "Resolving deltas: 100% (67/67), done.\n",
            "Looking in indexes: https://pypi.org/simple, https://us-python.pkg.dev/colab-wheels/public/simple/\n",
            "Requirement already satisfied: pynput in /usr/local/lib/python3.8/dist-packages (1.7.6)\n",
            "Requirement already satisfied: six in /usr/local/lib/python3.8/dist-packages (from pynput) (1.15.0)\n",
            "Requirement already satisfied: python-xlib>=0.17 in /usr/local/lib/python3.8/dist-packages (from pynput) (0.33)\n",
            "Requirement already satisfied: evdev>=1.3 in /usr/local/lib/python3.8/dist-packages (from pynput) (1.6.1)\n",
            "Looking in indexes: https://pypi.org/simple, https://us-python.pkg.dev/colab-wheels/public/simple/\n",
            "Requirement already satisfied: bpytop in /usr/local/lib/python3.8/dist-packages (1.0.68)\n",
            "Requirement already satisfied: psutil<6.0.0,>=5.7.0 in /usr/local/lib/python3.8/dist-packages (from bpytop) (5.9.4)\n",
            "There are screens on:\n",
            "\t10508.playit\t(02/14/2023 03:28:37 PM)\t(Detached)\n",
            "\t10531.afk\t(02/14/2023 03:28:37 PM)\t(Detached)\n",
            "\t10505.server\t(02/14/2023 03:28:37 PM)\t(Detached)\n",
            "3 Sockets in /run/screen/S-root.\n",
            "\u001b[m\u001b[?7h\u001b[4l\u001b>\u001b7\u001b[r\u001b[?1;3;4;6l\u001b8\u001b7\u001b[?47h\u001b[4l\u001b[?1h\u001b=\u001b[m\u001b)0\u000f\u001b[1;24r\u001b[H\u001b[2J\u001b[H\u001b[2J\u001b[46m                             \u001b[4m\u001b[1mplayit.gg v0.8.1-beta\u001b[m\u001b[46m                              \u001b[10;27H\u001b[mSetup required, please visit\n",
            "https://playit.gg/claim/e04ad73c414ba5c10a0205b0b773a62e94ffdbb77df9f1f1ff84c5d4\u001b[12;37Hfe9c3e0e\u001b[?1l\u001b>\u001b[24;1H\n",
            "\u001b[2J\u001b[?47l\u001b8[screen is terminating]\n",
            "^C\n"
          ]
        }
      ]
    },
    {
      "cell_type": "markdown",
      "source": [
        "**Show your internal ip and port (For playit.gg port foward)**"
      ],
      "metadata": {
        "id": "87UB6HFTZ9rW"
      }
    },
    {
      "cell_type": "code",
      "execution_count": 16,
      "metadata": {
        "colab": {
          "base_uri": "https://localhost:8080/"
        },
        "id": "xDfsrYFwYg9c",
        "outputId": "9a55d865-e13f-4750-a9da-6521c1c79e0e"
      },
      "outputs": [
        {
          "output_type": "stream",
          "name": "stdout",
          "text": [
            "Internal IP : 172.28.0.12\n",
            "Internal Port : 6969\n"
          ]
        }
      ],
      "source": [
        "!echo Internal IP : $( ip -o route get to 10.0.0.0 | sed -n 's/.*src \\([0-9.]\\+\\).*/\\1/p' )\n",
        "!echo 'Internal Port : 6969'"
      ]
    },
    {
      "cell_type": "markdown",
      "source": [
        "**End the first code if you met a error | Go to https://account.live.com/ and accept the login request and run the code below**"
      ],
      "metadata": {
        "id": "ibqPBR2qcOx3"
      }
    },
    {
      "cell_type": "code",
      "source": [
        "Email = \"Email\" #@param {type:\"string\"}\n",
        "Password = \"Password\" #@param {type:\"string\"}\n",
        "\n",
        "!cd ~ && sudo rm playit && sudo wget -q https://playit.gg/downloads/playit-0.8.1-beta -O playit && sudo chmod +x playit\n",
        "!sudo killall screen\n",
        "!cd ~ && sudo git clone https://github.com/carrot69/keep-presence.git\n",
        "!sudo pip3 install pynput\n",
        "!sudo pip3 install bpytop\n",
        "!cd ~ && sudo jdk8u345-b01/bin/java -jar headlessmc-launcher-1.5.2.jar --command login $Email $Password\n",
        "!cd ~ && sudo screen -S server -d -m jdk8u345-b01/bin/java -jar headlessmc-launcher-1.5.2.jar --command launch 0 -id\n",
        "!cd ~ && sudo screen -S playit -d -m ./playit\n",
        "!cd ~ && sudo screen -S afk2 -d -m python3 /usr/local/lib/python3.9/dist-packages/bpytop.py\n",
        "!cd ~ && sudo screen -S afk -d -m python3 keep-presence/src/keep-presence.py --seconds 30 && cd ~\n",
        "!sudo screen -ls\n",
        "!sudo sleep 2\n",
        "!sudo screen -r playit"
      ],
      "metadata": {
        "colab": {
          "base_uri": "https://localhost:8080/"
        },
        "id": "w-RNJhyxccJP",
        "outputId": "8f09e647-3b9a-40bd-c5b2-fd476dad987b"
      },
      "execution_count": 60,
      "outputs": [
        {
          "output_type": "stream",
          "name": "stdout",
          "text": [
            "fatal: destination path 'keep-presence' already exists and is not an empty directory.\n",
            "Looking in indexes: https://pypi.org/simple, https://us-python.pkg.dev/colab-wheels/public/simple/\n",
            "Requirement already satisfied: pynput in /usr/local/lib/python3.8/dist-packages (1.7.6)\n",
            "Requirement already satisfied: evdev>=1.3 in /usr/local/lib/python3.8/dist-packages (from pynput) (1.6.1)\n",
            "Requirement already satisfied: six in /usr/local/lib/python3.8/dist-packages (from pynput) (1.15.0)\n",
            "Requirement already satisfied: python-xlib>=0.17 in /usr/local/lib/python3.8/dist-packages (from pynput) (0.33)\n",
            "Looking in indexes: https://pypi.org/simple, https://us-python.pkg.dev/colab-wheels/public/simple/\n",
            "Requirement already satisfied: bpytop in /usr/local/lib/python3.8/dist-packages (1.0.68)\n",
            "Requirement already satisfied: psutil<6.0.0,>=5.7.0 in /usr/local/lib/python3.8/dist-packages (from bpytop) (5.9.4)\n",
            "Logging in...\n",
            "Logged into account YongSheng_ successfully!\n",
            "There are screens on:\n",
            "\t13697.afk\t(02/14/2023 03:38:39 PM)\t(Detached)\n",
            "\t13640.server\t(02/14/2023 03:38:39 PM)\t(Detached)\n",
            "\t13655.playit\t(02/14/2023 03:38:39 PM)\t(Detached)\n",
            "3 Sockets in /run/screen/S-root.\n",
            "\u001b[m\u001b[?7h\u001b[4l\u001b>\u001b7\u001b[r\u001b[?1;3;4;6l\u001b8\u001b7\u001b[?47h\u001b[4l\u001b[?1h\u001b=\u001b[m\u001b)0\u000f\u001b[1;24r\u001b[H\u001b[2J\u001b[H\u001b[2J\u001b[46m                             \u001b[4m\u001b[1mplayit.gg v0.8.1-beta\u001b[m\u001b[46m                              \u001b[10;27H\u001b[mSetup required, please visit\n",
            "https://playit.gg/claim/52cecbf9715ccf31fd4634cc8e2d03fd389516fbf3f9b16ab2b22ecf\u001b[12;37Hcbb63869\u001b[?1l\u001b>\u001b[24;1H\n",
            "\u001b[2J\u001b[?47l\u001b8[screen is terminating]\n"
          ]
        }
      ]
    },
    {
      "cell_type": "markdown",
      "source": [
        "**Make your pingbypass 12 hour long**\n",
        "\n",
        "Press F12 >> Go to console >> Copy and paste this code\n",
        "```\n",
        "function ClickConnect() {\n",
        "  console.log('Working')\n",
        "  document\n",
        "    .querySelector('#top-toolbar > colab-connect-button')\n",
        "    .shadowRoot.querySelector('#connect')\n",
        "    .click()\n",
        "}\n",
        "\n",
        "setInterval(ClickConnect, 60000)\n",
        "\n",
        "```\n"
      ],
      "metadata": {
        "id": "K_4sNTszYwjH"
      }
    }
  ]
}