{
  "nbformat": 4,
  "nbformat_minor": 0,
  "metadata": {
    "colab": {
      "provenance": [],
      "authorship_tag": "ABX9TyPpPuoU6DIkTyVbSknQ7cA0",
      "include_colab_link": true
    },
    "kernelspec": {
      "name": "python3",
      "display_name": "Python 3"
    },
    "language_info": {
      "name": "python"
    }
  },
  "cells": [
    {
      "cell_type": "markdown",
      "metadata": {
        "id": "view-in-github",
        "colab_type": "text"
      },
      "source": [
        "<a href=\"https://colab.research.google.com/github/YongSheng109/PingBypassInstaller/blob/main/pigbypass.ipynb\" target=\"_parent\"><img src=\"https://colab.research.google.com/assets/colab-badge.svg\" alt=\"Open In Colab\"/></a>"
      ]
    },
    {
      "cell_type": "markdown",
      "source": [
        "**Show your internal ip and port (For playit.gg port foward)**"
      ],
      "metadata": {
        "id": "87UB6HFTZ9rW"
      }
    },
    {
      "cell_type": "code",
      "execution_count": null,
      "metadata": {
        "id": "xDfsrYFwYg9c"
      },
      "outputs": [],
      "source": [
        "!echo Internal IP : $( ip -o route get to 10.0.0.0 | sed -n 's/.*src \\([0-9.]\\+\\).*/\\1/p' )\n",
        "!echo 'Internal Port : 6969'"
      ]
    },
    {
      "cell_type": "markdown",
      "source": [
        "**This will make a pingbypass for you automatically | You just have to enter some personal info**"
      ],
      "metadata": {
        "id": "lBiCNVxNbDim"
      }
    },
    {
      "cell_type": "code",
      "source": [
        "!cd ~ && ls && rm * -r\n",
        "!echo \"nameserver 8.8.8.8\" > /etc/systemd/resolved.conf\n",
        "!echo \"nameserver 8.8.4.4\" > /etc/systemd/resolved.conf\n",
        "!cat /etc/systemd/resolved.conf\n",
        "!sudo su root -c 'cd ~ && curl https://raw.githubusercontent.com/YongSheng109/PingBypassInstaller/main/colabsh.sh -o colab.sh'\n",
        "!cd ~ && chmod +x colab.sh\n",
        "!cd ~ && sudo sh colab.sh"
      ],
      "metadata": {
        "id": "4t6PvldobCG_"
      },
      "execution_count": null,
      "outputs": []
    },
    {
      "cell_type": "markdown",
      "source": [
        "**End the first code if you met a error | Go to https://account.live.com/ and accept the login request and run the code below**"
      ],
      "metadata": {
        "id": "ibqPBR2qcOx3"
      }
    },
    {
      "cell_type": "code",
      "source": [
        "Email = \"minecraftyongsheng753@outlook.com\" #@param {type:\"string\"}\n",
        "Password = \"zYongSheng\" #@param {type:\"string\"}\n",
        "\n",
        "!cd ~\n",
        "!echo \"nameserver 8.8.8.8\" > /etc/systemd/resolved.conf\n",
        "!echo \"nameserver 8.8.4.4\" > /etc/systemd/resolved.conf\n",
        "!cd ~ && sudo rm playit-0.9.3 && sudo wget -q https://github.com/playit-cloud/playit-agent/releases/download/v0.9.3/playit-0.9.3  && chmod +x playit-0.9.3\n",
        "!sudo killall screen\n",
        "!cd ~ && sudo git clone https://github.com/carrot69/keep-presence.git\n",
        "!sudo pip3 install pynput\n",
        "!sudo pip3 install bpytop\n",
        "!cd ~ && sudo jdk8u345-b01/bin/java -jar headlessmc-launcher-1.5.2.jar --command login $Email $Password\n",
        "!cd ~ && sudo screen -S server -d -m jdk8u345-b01/bin/java -jar headlessmc-launcher-1.5.2.jar --command launch 0 -id\n",
        "!cd ~ && sudo screen -S playit -d -m ./playit-0.9.3\n",
        "!cd ~ && sudo screen -S afk2 -d -m python3 /usr/local/lib/python3.9/dist-packages/bpytop.py\n",
        "!cd ~ && sudo screen -S afk -d -m python3 keep-presence/src/keep-presence.py --seconds 30 && cd ~\n",
        "!sudo screen -ls\n",
        "!sudo sleep 2\n",
        "!sudo screen -r playit"
      ],
      "metadata": {
        "id": "w-RNJhyxccJP"
      },
      "execution_count": null,
      "outputs": []
    },
    {
      "cell_type": "markdown",
      "source": [
        "**Make your pingbypass 12 hour long**\n",
        "\n",
        "Press F12 >> Go to console >> Copy and paste this code\n",
        "```\n",
        "function ClickConnect() {\n",
        "  console.log('Working')\n",
        "  document\n",
        "    .querySelector('#top-toolbar > colab-connect-button')\n",
        "    .shadowRoot.querySelector('#connect')\n",
        "    .click()\n",
        "}\n",
        "\n",
        "setInterval(ClickConnect, 60000)\n",
        "\n",
        "```\n"
      ],
      "metadata": {
        "id": "K_4sNTszYwjH"
      }
    }
  ]
}